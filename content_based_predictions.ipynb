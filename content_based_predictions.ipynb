{
 "cells": [
  {
   "cell_type": "code",
   "execution_count": null,
   "metadata": {
    "collapsed": true
   },
   "outputs": [],
   "source": [
    "import pandas as pd\n",
    "import numpy as np\n",
    "import math\n",
    "import time\n",
    "import os"
   ]
  },
  {
   "cell_type": "code",
   "execution_count": null,
   "metadata": {
    "collapsed": true
   },
   "outputs": [],
   "source": [
    "LARGE_DATASET = True"
   ]
  },
  {
   "cell_type": "code",
   "execution_count": null,
   "metadata": {
    "collapsed": true
   },
   "outputs": [],
   "source": [
    "if LARGE_DATASET:\n",
    "    movie_path = \"ml-latest/movies.csv\"\n",
    "    tags_path = \"ml-latest/tags.csv\"\n",
    "    ratings_path = \"ml-latest/split/ratings_testing.csv\"\n",
    "    movie_profiles_path = \"/media/karol/E8B625B3B6258364/calculated/movie_profiles\"\n",
    "    user_profiles_path = \"/media/karol/E8B625B3B6258364/calculated/user_profiles/\"\n",
    "    movie_matrix_path = \"/media/karol/E8B625B3B6258364/calculated/movie_matrix\"\n",
    "else:\n",
    "    movie_path = \"ml-latest-small/movies.csv\"\n",
    "    tags_path = \"ml-latest-small/tags.csv\"\n",
    "    ratings_path = \"ml-latest-small/split/ratings_testing.csv\"\n",
    "    movie_profiles_path = \"/media/karol/E8B625B3B6258364/calculated-small/movie_profiles\"\n",
    "    user_profiles_path = \"/media/karol/E8B625B3B6258364/calculated-small/user_profiles/\""
   ]
  },
  {
   "cell_type": "code",
   "execution_count": null,
   "metadata": {
    "collapsed": true
   },
   "outputs": [],
   "source": [
    "def read_user_profile(userId):\n",
    "    directory = user_profiles_path + str(userId // 1000) + \"/\" + str(userId)\n",
    "    user_profile = pd.read_csv(directory,  header=None, usecols=[1,2,3])\n",
    "    return user_profile.rename(columns={1:\"tag\",2:\"u_weight\",3:\"userId\"})\n",
    "\n",
    "def get_movie_profile(movieId):\n",
    "    return movie_profiles[movie_profiles['movieId'] == movieId]"
   ]
  },
  {
   "cell_type": "markdown",
   "metadata": {},
   "source": [
    "# Predict user's rating on test data"
   ]
  },
  {
   "cell_type": "markdown",
   "metadata": {},
   "source": [
    "Profile filmów oraz użytkowników zapisane są w postaci list tagów oraz ich wag związanych z danymi filmami i użytkownikami, sposób ten jest oszczędny jeśli chodzi o zajęte miejsce na dysku, jednak obliczenia wektorowe na takiej strukturze są zdecydowanie za wolne. Z tego powodu wszystkie profile filmów zostają najpierw zamienione na postać macierzy, a wszystkie profile użytkownika po kolei zostają zamienione w postać wektorową."
   ]
  },
  {
   "cell_type": "code",
   "execution_count": null,
   "metadata": {
    "collapsed": true
   },
   "outputs": [],
   "source": [
    "# get_movie_profile_matrix: dla podanych indeksów filmów tworzona jest macierz,\n",
    "# w której każda kolumna reprezentuje wektor film, a każdy wiersz odpowiada danemu tagowi \n",
    "def get_movie_profile_matrix(movie_indices):\n",
    "    if len(movie_indices) == 1:\n",
    "        mid = movie_indices.iloc[0]\n",
    "        return get_movie_profile(mid).drop(['movieId'],1).rename(columns={\"m_weight\": mid})\n",
    "    \n",
    "    matrix_left = get_movie_profile_matrix(movie_indices[:len(movie_indices)//2])\n",
    "    matrix_right = get_movie_profile_matrix(movie_indices[len(movie_indices)//2:])\n",
    "    matrix = pd.merge(matrix_left,matrix_right , on='tag', how='outer', sort=False)\n",
    "    return matrix\n",
    "\n",
    "# get_similarity: funkcja obliczająca odległość kosinusową między wektorem użytkownika\n",
    "# a macierzą filmów, z założeniem że wszystkie wektory mają długość 1\n",
    "def get_similarity(userId, movies_df):\n",
    "    i = read_user_profile(userId)\n",
    "    i['u_weight'] = i['u_weight'] / np.sqrt(np.square(i['u_weight']).sum())\n",
    "    similarity = pd.merge(i, movies_df, on='tag', how='inner', sort=False)\n",
    "    return similarity.iloc[:,3:].mul(i['u_weight'],0).sum(0)"
   ]
  },
  {
   "cell_type": "code",
   "execution_count": null,
   "metadata": {
    "collapsed": true
   },
   "outputs": [],
   "source": [
    "movie_profiles = pd.read_csv(movie_profiles_path).rename(columns={'weight':'m_weight'})\n",
    "ratings_data = pd.read_csv(ratings_path)"
   ]
  },
  {
   "cell_type": "code",
   "execution_count": null,
   "metadata": {
    "collapsed": true
   },
   "outputs": [],
   "source": [
    "movies = ratings_data['movieId'].drop_duplicates()"
   ]
  },
  {
   "cell_type": "code",
   "execution_count": null,
   "metadata": {
    "collapsed": true
   },
   "outputs": [],
   "source": [
    "LOAD_MATRIX = False"
   ]
  },
  {
   "cell_type": "code",
   "execution_count": null,
   "metadata": {
    "collapsed": true
   },
   "outputs": [],
   "source": [
    "if LOAD_MATRIX:\n",
    "    movie_matrix = pd.read_csv('/media/karol/E8B625B3B6258364/calculated/movie_matrix')\n",
    "else:\n",
    "    movie_matrix = get_movie_profile_matrix(movies)"
   ]
  },
  {
   "cell_type": "markdown",
   "metadata": {},
   "source": [
    "Obliczenie rekomendacji dla użytkowników.\n",
    "Dla każdego użytkownika tworzona jest lista indeksów filmów, posortowane wg. kryterium\n",
    "odległości, każda lista zapisywana jest w osobnym pliku dla wygody wczytywania/edycji\n",
    "konkretnego użytkownika"
   ]
  },
  {
   "cell_type": "code",
   "execution_count": null,
   "metadata": {
    "collapsed": true,
    "scrolled": true
   },
   "outputs": [],
   "source": [
    "start = time.time()\n",
    "x = 0\n",
    "for userId in ratings_data['userId'].drop_duplicates():\n",
    "        print(userId)\n",
    "        f = open(\"calculated/content_based_recommendations/\" + str(userId), \"w\")\n",
    "        recomendations = pd.DataFrame()\n",
    "        recomendations['movie'] = get_similarity(userId,movie_matrix).sort_values(ascending=False).index\n",
    "        recomendations.to_csv(f, header=None ,index=False)\n",
    "print(time.time() - start)"
   ]
  },
  {
   "cell_type": "markdown",
   "metadata": {},
   "source": [
    "# Mały zestaw dany został przetworzony w mniej niż 4sekundy\n",
    "\n",
    "w dużym zestawie każdy użytkownik wymaga około sekundy na obliczenie, ostatecznie obliczone\n",
    "zostały rekomendacje dla około 10tyś. losowych użytkowników"
   ]
  }
 ],
 "metadata": {
  "kernelspec": {
   "display_name": "Python 3",
   "language": "python",
   "name": "python3"
  },
  "language_info": {
   "codemirror_mode": {
    "name": "ipython",
    "version": 3
   },
   "file_extension": ".py",
   "mimetype": "text/x-python",
   "name": "python",
   "nbconvert_exporter": "python",
   "pygments_lexer": "ipython3",
   "version": "3.6.2"
  }
 },
 "nbformat": 4,
 "nbformat_minor": 2
}
