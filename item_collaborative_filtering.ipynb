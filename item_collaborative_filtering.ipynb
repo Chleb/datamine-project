{
 "cells": [
  {
   "cell_type": "code",
   "execution_count": null,
   "metadata": {
    "scrolled": true
   },
   "outputs": [],
   "source": [
    "import pandas as pd\n",
    "import numpy as np\n",
    "import math\n",
    "\n",
    "ratings_path = \"./ml-latest-small/ratings.csv\"\n",
    "movies_path = \"./ml-latest-small/movies.csv\"\n",
    "tags_path = \"./ml-latest-small/tags.csv\"\n",
    "top_similar_items_path = \"./top_similar_items.csv\"\n",
    "\n",
    "Ratings = pd.DataFrame()\n",
    "Movies = pd.DataFrame()\n",
    "TopSimilarItems = pd.DataFrame()"
   ]
  },
  {
   "cell_type": "code",
   "execution_count": null,
   "metadata": {},
   "outputs": [],
   "source": [
    "def load_dataset(dataset):\n",
    "    dataset_name = dataset[0]\n",
    "    dataset_path = dataset[1]\n",
    "    try:\n",
    "        data = pd.read_csv(dataset_path)\n",
    "        print(\"{} is successfully read from memory.\").format(dataset_name)\n",
    "        return data\n",
    "    except:\n",
    "        print(\"CAUTION: {} cannot be read from memory.\").format(dataset_name)\n",
    "        return "
   ]
  },
  {
   "cell_type": "code",
   "execution_count": null,
   "metadata": {},
   "outputs": [],
   "source": [
    "def cosine_similarity(movie1, movie2):\n",
    "    dot_product = movie1.transpose().dot(movie2)\n",
    "    item1_vector_length = math.sqrt(movie1.transpose().dot(movie1))\n",
    "    item2_vector_length = math.sqrt(movie2.transpose().dot(movie2))\n",
    "    if item1_vector_length < 0.0000001 or item2_vector_length < 0.0000001:\n",
    "        return 0\n",
    "    else:\n",
    "        return dot_product / item1_vector_length / item2_vector_length"
   ]
  },
  {
   "cell_type": "code",
   "execution_count": null,
   "metadata": {},
   "outputs": [],
   "source": [
    "def item_similarity_matrix(Ratings):\n",
    "    MeanUserRating = Ratings.groupby(['userId'], as_index = False, sort = False).mean().rename(columns = {'rating': 'rating_mean'})[['userId','rating_mean']]\n",
    "    Ratings = pd.merge(Ratings, MeanUserRating, on = 'userId', how = 'left', sort = False)\n",
    "    Ratings['rating_adjusted'] = Ratings['rating'] - Ratings['rating_mean']\n",
    "    Ratings['mean_skewness'] = (Ratings['rating_adjusted'])/(5-Ratings['rating_mean'])*(Ratings['rating_adjusted']>0).astype(float) - (Ratings['rating_adjusted'])/(Ratings['rating_mean']-0.5)*(Ratings['rating_adjusted']<0).astype(float)\n",
    "    Ratings['rating_unskewed'] = Ratings['rating_adjusted'] * np.sqrt(1+(Ratings['mean_skewness']**2)*2) \n",
    "    RatingsMatrix = Ratings.pivot_table(index='userId', columns='movieId', values='rating_unskewed', fill_value=0)\n",
    "\n",
    "    distinct_movies = np.unique(Ratings['movieId'])\n",
    "    MoviesMatrix = pd.DataFrame(0, index=distinct_movies, columns=np.arange(distinct_movies.size)+1, dtype='float')\n",
    "    TopSimilarItems = pd.DataFrame(0, index=distinct_movies, columns=np.arange(1000)+1, dtype='float')\n",
    "    \n",
    "    for movie in distinct_movies[:10]:\n",
    "        movieIndex = np.searchsorted(distinct_movies, movie)\n",
    "        \n",
    "        for movie2 in distinct_movies:\n",
    "            movie2Index = np.searchsorted(distinct_movies, movie2)\n",
    "            proximity = cosine_similarity(RatingsMatrix.iloc[:,movieIndex], RatingsMatrix.iloc[:,movie2Index])\n",
    "            MoviesMatrix[movie2Index+1][movieIndex+1] = proximity\n",
    "            \n",
    "        similarity_values = np.copy(MoviesMatrix.values[movieIndex])\n",
    "        sorted_movie_indexes = np.argsort(MoviesMatrix.values[movieIndex])[::-1]\n",
    "        MoviesMatrix.values[movieIndex] = MoviesMatrix.index[sorted_movie_indexes]\n",
    "        similarity_values.sort()\n",
    "        similarity_values = similarity_values[::-1]\n",
    "        MoviesMatrix.values[movieIndex] = np.where(similarity_values > 0, MoviesMatrix.values[movieIndex], 0)\n",
    "        TopSimilarItems.values[movieIndex] = MoviesMatrix.values[movieIndex][1:1001]\n",
    "        print(\"Calculated for {} items out of {}.\").format(movieIndex+1, distinct_movies.size)\n",
    "\n",
    "    TopSimilarItems.to_csv(top_similar_items_path)\n",
    "    return TopSimilarItems"
   ]
  },
  {
   "cell_type": "code",
   "execution_count": null,
   "metadata": {},
   "outputs": [],
   "source": [
    "Ratings = load_dataset((\"Ratings\", ratings_path))\n",
    "Movies = load_dataset((\"Movies\", movies_path))\n",
    "TopSimilarItems = load_dataset((\"TopSimilarItems\", top_similar_items_path))\n",
    "if TopSimilarItems is None:\n",
    "    print(\"Item similarity matrix is being recalculated. It might take a while...\")\n",
    "    TopSimilarItems = item_similarity_matrix(Ratings)"
   ]
  },
  {
   "cell_type": "code",
   "execution_count": null,
   "metadata": {},
   "outputs": [],
   "source": [
    "def item_collaborative_recommendations(movieId):\n",
    "    movieIndex = np.searchsorted(np.unique(Ratings['movieId']), movieId)\n",
    "    item_recommendations = np.extract(TopSimilarItems.values[movieIndex]>0, TopSimilarItems.values[movieIndex])\n",
    "    return item_recommendations"
   ]
  },
  {
   "cell_type": "code",
   "execution_count": null,
   "metadata": {},
   "outputs": [],
   "source": []
  },
  {
   "cell_type": "code",
   "execution_count": null,
   "metadata": {},
   "outputs": [],
   "source": []
  },
  {
   "cell_type": "code",
   "execution_count": null,
   "metadata": {},
   "outputs": [],
   "source": []
  },
  {
   "cell_type": "code",
   "execution_count": null,
   "metadata": {},
   "outputs": [],
   "source": []
  },
  {
   "cell_type": "code",
   "execution_count": null,
   "metadata": {},
   "outputs": [],
   "source": []
  }
 ],
 "metadata": {
  "anaconda-cloud": {},
  "kernelspec": {
   "display_name": "Python 2",
   "language": "python",
   "name": "python2"
  },
  "language_info": {
   "codemirror_mode": {
    "name": "ipython",
    "version": 2
   },
   "file_extension": ".py",
   "mimetype": "text/x-python",
   "name": "python",
   "nbconvert_exporter": "python",
   "pygments_lexer": "ipython2",
   "version": "2.7.13"
  }
 },
 "nbformat": 4,
 "nbformat_minor": 1
}
