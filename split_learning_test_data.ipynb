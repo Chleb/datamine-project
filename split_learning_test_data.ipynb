{
 "cells": [
  {
   "cell_type": "code",
   "execution_count": 1,
   "metadata": {
    "collapsed": true
   },
   "outputs": [],
   "source": [
    "import pandas as pd\n",
    "import numpy as np\n",
    "import math\n",
    "import time\n",
    "import os"
   ]
  },
  {
   "cell_type": "markdown",
   "metadata": {},
   "source": [
    "Rozdzielenie danych o ocenach filmów na część treningową i testową, poprzez wybranie losowych ocen użytkowników którzy ocenili ponad 400 filmów (lub 100 na małym zestawie danych). Wybrane oceny to wyłącznie takie które są powyżej średniej ocen danego użytkownika"
   ]
  },
  {
   "cell_type": "code",
   "execution_count": 2,
   "metadata": {
    "collapsed": true
   },
   "outputs": [],
   "source": [
    "ratings_path = \"ml-latest/ratings.csv\"\n",
    "ratings_data = pd.read_csv(ratings_path)"
   ]
  },
  {
   "cell_type": "code",
   "execution_count": 4,
   "metadata": {
    "collapsed": true
   },
   "outputs": [],
   "source": [
    "users = ratings_data.groupby('userId')\n",
    "movies = ratings_data.groupby('movieId')"
   ]
  },
  {
   "cell_type": "code",
   "execution_count": 18,
   "metadata": {
    "collapsed": true
   },
   "outputs": [],
   "source": [
    "chosen_ratings = []\n",
    "\n",
    "for userId,ratings in users:\n",
    "    if ratings.shape[0] > 400:\n",
    "        mean= ratings['rating'].mean()\n",
    "        positive_ratings = ratings[ratings['rating'] > mean]\n",
    "        choice = np.random.choice(positive_ratings.index, 4,replace=False).tolist()\n",
    "        chosen_ratings += choice"
   ]
  },
  {
   "cell_type": "code",
   "execution_count": 19,
   "metadata": {
    "collapsed": true
   },
   "outputs": [],
   "source": [
    "testing_data = ratings_data.loc[chosen_ratings]\n",
    "learning_data = ratings_data.loc[~ratings_data.index.isin(chosen_ratings)]"
   ]
  },
  {
   "cell_type": "code",
   "execution_count": 23,
   "metadata": {
    "collapsed": true
   },
   "outputs": [],
   "source": [
    "f = open('ml-latest/split/ratings_learning.csv','w')\n",
    "learning_data.to_csv(f)"
   ]
  },
  {
   "cell_type": "code",
   "execution_count": 24,
   "metadata": {
    "collapsed": true
   },
   "outputs": [],
   "source": [
    "t = open('ml-latest/split/ratings_testing.csv','w')\n",
    "testing_data.to_csv(t)"
   ]
  }
 ],
 "metadata": {
  "kernelspec": {
   "display_name": "Python 3",
   "language": "python",
   "name": "python3"
  },
  "language_info": {
   "codemirror_mode": {
    "name": "ipython",
    "version": 3
   },
   "file_extension": ".py",
   "mimetype": "text/x-python",
   "name": "python",
   "nbconvert_exporter": "python",
   "pygments_lexer": "ipython3",
   "version": "3.6.2"
  }
 },
 "nbformat": 4,
 "nbformat_minor": 2
}
