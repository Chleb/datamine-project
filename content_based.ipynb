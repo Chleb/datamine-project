{
 "cells": [
  {
   "cell_type": "code",
   "execution_count": 1,
   "metadata": {
    "collapsed": true
   },
   "outputs": [],
   "source": [
    "import numpy as np\n",
    "import pandas as pd\n",
    "from sklearn.feature_extraction.text import TfidfVectorizer\n",
    "from sklearn.metrics.pairwise import *"
   ]
  },
  {
   "cell_type": "markdown",
   "metadata": {},
   "source": [
    "# Aux functions"
   ]
  },
  {
   "cell_type": "code",
   "execution_count": 2,
   "metadata": {
    "collapsed": true
   },
   "outputs": [],
   "source": [
    "MOVIE_DATA_PATH = \"ml-latest/movies.csv\"\n",
    "TAGS_DATA_PATH = \"ml-latest/tags.csv\"\n",
    "NO_GENRES = \"(no genres listed)\""
   ]
  },
  {
   "cell_type": "code",
   "execution_count": 3,
   "metadata": {},
   "outputs": [],
   "source": [
    "def prepare_movie_data(line):\n",
    "    line = line.strip().split(',')\n",
    "    id, title, genres = line[0], line[-2], line[-1]\n",
    "    if genres == NO_GENRES:\n",
    "        genres = ''\n",
    "    year_of_release = title.split()[-1][1:5]\n",
    "    genres = genres.split('|')\n",
    "    return id, year_of_release, genres\n",
    "\n",
    "def prepare_tags_data(line):\n",
    "    line = line.strip().lower().split(',')\n",
    "    tags = ' '.join(line[2:-1])\n",
    "    tags = ''.join(e for e in tags if e.isalnum() or e==' ')\n",
    "    return line[1],tags\n",
    "\n",
    "def prepare_tags_dict(tags):\n",
    "    tags_dict = {}\n",
    "    for movie_id, tag in tags:\n",
    "        movie_id = int(movie_id)\n",
    "        if movie_id in tags_dict:\n",
    "            tags_dict[movie_id] += \" \" + tag\n",
    "        else:\n",
    "            tags_dict[movie_id] = tag\n",
    "    return tags_dict"
   ]
  },
  {
   "cell_type": "markdown",
   "metadata": {},
   "source": [
    "# Gathering the data"
   ]
  },
  {
   "cell_type": "code",
   "execution_count": 4,
   "metadata": {},
   "outputs": [],
   "source": [
    "movies_data = [prepare_movie_data(line) for line in open(MOVIE_DATA_PATH).readlines()[1:]]"
   ]
  },
  {
   "cell_type": "code",
   "execution_count": 5,
   "metadata": {
    "collapsed": true
   },
   "outputs": [],
   "source": [
    "tags_data = [prepare_tags_data(line) for line in open(TAGS_DATA_PATH).readlines()[1:]]"
   ]
  },
  {
   "cell_type": "code",
   "execution_count": 6,
   "metadata": {},
   "outputs": [],
   "source": [
    "tags_dict = prepare_tags_dict(tags_data)\n",
    "tags = list(tags_dict.values())\n",
    "movie_ids = list(tags_dict.keys())"
   ]
  },
  {
   "cell_type": "markdown",
   "metadata": {
    "scrolled": true
   },
   "source": [
    "# Calculating tags similarity"
   ]
  },
  {
   "cell_type": "code",
   "execution_count": 7,
   "metadata": {},
   "outputs": [],
   "source": [
    "vectorizer = TfidfVectorizer(analyzer='word',\n",
    "                     ngram_range=(1, 3),\n",
    "                     lowercase=False,\n",
    "                     binary=True,\n",
    "                     stop_words='english')\n",
    "\n",
    "tags_vectors = vectorizer.fit_transform(tags)\n",
    "\n",
    "cos_similarity = cosine_similarity(tags_vectors,tags_vectors)"
   ]
  },
  {
   "cell_type": "markdown",
   "metadata": {},
   "source": [
    "# Example"
   ]
  },
  {
   "cell_type": "code",
   "execution_count": 8,
   "metadata": {},
   "outputs": [
    {
     "data": {
      "text/plain": [
       "array([ 0.00183787,  0.00112496,  0.        , ...,  0.        ,\n",
       "        0.        ,  0.        ])"
      ]
     },
     "execution_count": 8,
     "metadata": {},
     "output_type": "execute_result"
    }
   ],
   "source": [
    "cos_similarity[2571]"
   ]
  },
  {
   "cell_type": "code",
   "execution_count": 9,
   "metadata": {},
   "outputs": [
    {
     "data": {
      "text/plain": [
       "[(2571, 0.99999999999999989),\n",
       " (7039, 0.12105372187800925),\n",
       " (8444, 0.09144529563969174),\n",
       " (8721, 0.08308096676795651),\n",
       " (8732, 0.08308096676795651),\n",
       " (8777, 0.08308096676795651),\n",
       " (10375, 0.077082572794193449),\n",
       " (22563, 0.072520828797440359),\n",
       " (22697, 0.072520828797440359),\n",
       " (20511, 0.068883788614363589)]"
      ]
     },
     "execution_count": 9,
     "metadata": {},
     "output_type": "execute_result"
    }
   ],
   "source": [
    "sorted(enumerate(cos_similarity[2571]),reverse=True, key=lambda x:x[1])[:10]"
   ]
  },
  {
   "cell_type": "code",
   "execution_count": 10,
   "metadata": {},
   "outputs": [
    {
     "name": "stdout",
     "output_type": "stream",
     "text": [
      "animation  live action interact animation insipid saccharine bobola animation james marsden russel brand slow pacing russell brand animation tim hill\n",
      "---==binary==---\n",
      "brendan fraser looney tunes brendan fraser steve martin animation  live action interact bad acting heterosexual live actionanimation looney tunes steve martin\n",
      "---==counting==---\n",
      "funny jennifer garner russell brand russell brand stupid jennifer garner russell brand funny good plot russell brand funny russel brand russel brand russel brand russell brand\n"
     ]
    }
   ],
   "source": [
    "print(tags[2571])\n",
    "print(\"---==binary==---\")\n",
    "print(tags[7039])\n",
    "print(\"---==counting==---\")\n",
    "print(tags[8444])"
   ]
  }
 ],
 "metadata": {
  "kernelspec": {
   "display_name": "Python 3",
   "language": "python",
   "name": "python3"
  },
  "language_info": {
   "codemirror_mode": {
    "name": "ipython",
    "version": 3
   },
   "file_extension": ".py",
   "mimetype": "text/x-python",
   "name": "python",
   "nbconvert_exporter": "python",
   "pygments_lexer": "ipython3",
   "version": "3.6.2"
  }
 },
 "nbformat": 4,
 "nbformat_minor": 2
}
