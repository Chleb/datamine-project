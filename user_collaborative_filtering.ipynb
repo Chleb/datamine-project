{
 "cells": [
  {
   "cell_type": "code",
   "execution_count": 354,
   "metadata": {
    "collapsed": false
   },
   "outputs": [],
   "source": [
    "import pandas as pd\n",
    "import numpy as np\n",
    "import math\n",
    "\n",
    "ratings_path = \"./ml-latest-small/ratings.csv\"\n",
    "movies_path = \"./ml-latest-small/movies.csv\"\n",
    "tags_path = \"./ml-latest-small/tags.csv\"\n",
    "similar_users_path = \"./similar_users.csv\"\n",
    "\n",
    "Ratings = pd.DataFrame()\n",
    "SimilarUsers = pd.DataFrame()"
   ]
  },
  {
   "cell_type": "code",
   "execution_count": 362,
   "metadata": {
    "collapsed": false
   },
   "outputs": [
    {
     "name": "stdout",
     "output_type": "stream",
     "text": [
      "Ratings is successfully read from memory.\n",
      "SimilarUsers is successfully read from memory.\n"
     ]
    }
   ],
   "source": [
    "def load_dataset(dataset):\n",
    "    dataset_name = dataset[0]\n",
    "    dataset_path = dataset[1]\n",
    "    try:\n",
    "        data = pd.read_csv(dataset_path)\n",
    "        print(\"{} is successfully read from memory.\").format(dataset_name)\n",
    "        return data\n",
    "    except:\n",
    "        print(\"CAUTION: {} cannot be read from memory.\").format(dataset_name)\n",
    "        return None\n",
    "\n",
    "Ratings = load_dataset((\"Ratings\", ratings_path))\n",
    "SimilarUsers = load_dataset((\"SimilarUsers\", similar_users_path))\n",
    "if SimilarUsers.empty:\n",
    "    print(\"User similarity matrix is being recalculated...\\n It might last a while...\")\n",
    "    SimilarUsers = user_similarity_matrix()"
   ]
  },
  {
   "cell_type": "code",
   "execution_count": 353,
   "metadata": {
    "collapsed": false
   },
   "outputs": [],
   "source": [
    "def user_similarity_matrix():\n",
    "    MeanUserRating = Ratings.groupby(['userId'], as_index = False, sort = False).mean().rename(columns = {'rating': 'rating_mean'})[['userId','rating_mean']]\n",
    "    Ratings = pd.merge(Ratings, MeanUserRating, on = 'userId', how = 'left', sort = False)\n",
    "    Ratings['rating_adjusted'] = Ratings['rating'] - Ratings['rating_mean']\n",
    "    Ratings['mean_skewness'] = (Ratings['rating_adjusted'])/(5-Ratings['rating_mean'])*(Ratings['rating_adjusted']>0).astype(float) - (Ratings['rating_adjusted'])/(Ratings['rating_mean']-0.5)*(Ratings['rating_adjusted']<0).astype(float)\n",
    "    Ratings['rating_unskewed'] = Ratings['rating_adjusted'] * np.sqrt(1+(Ratings['mean_skewness']**2)*2) \n",
    "    distinct_users = np.unique(Ratings['userId'])\n",
    "\n",
    "    similar_users = pd.DataFrame()\n",
    "\n",
    "    for user1 in distinct_users:\n",
    "        user1_data = Ratings[Ratings['userId']==user1]\n",
    "        user1_data = user1_data.rename(columns={'rating_adjusted':'rating_adjusted1'})\n",
    "        user1_data = user1_data.rename(columns={'rating_unskewed':'rating_unskewed1'})\n",
    "        user1_vector_length = np.sqrt(np.sum(np.square(user1_data['rating_adjusted1']), axis=0))\n",
    "\n",
    "        for user2 in distinct_users:\n",
    "            user2_data = Ratings[Ratings['userId']==user2]\n",
    "\n",
    "            user2_data = user2_data.rename(columns={'rating_adjusted':'rating_adjusted2'})\n",
    "            user2_data = user2_data.rename(columns={'rating_unskewed':'rating_unskewed2'})\n",
    "            user2_data = user2_data.rename(columns={'userId':'userId2'}) \n",
    "            user2_vector_length = np.sqrt(np.sum(np.square(user2_data['rating_adjusted2']), axis=0))\n",
    "\n",
    "            user_data = pd.merge(user1_data,user2_data[['rating_adjusted2','userId2','movieId', 'rating_unskewed2']], on = 'movieId', how = 'inner', sort = False)\n",
    "            user_data['vector_product']=(user_data['rating_adjusted1']*user_data['rating_adjusted2'])\n",
    "            user_data['unskewed_product']=(user_data['rating_unskewed1']*user_data['rating_unskewed2'])\n",
    "            user_data = user_data.groupby(['userId','userId2'], as_index = False, sort = False)['vector_product', 'unskewed_product'].agg('sum')\n",
    "            user_data['pearson'] = user_data['vector_product']/(user1_vector_length*user2_vector_length)\n",
    "            user_data['unskewed_pearson'] = user_data['unskewed_product']/(user1_vector_length*user2_vector_length)\n",
    "            user_data = user_data.drop(columns=['vector_product', 'unskewed_product'])\n",
    "            similar_users = similar_users.append(user_data, ignore_index=True)\n",
    "\n",
    "    SimilarUsers = similar_users[similar_users['pearson']<0.99999]\n",
    "    SimilarUsers.to_csv(similar_users_path)\n",
    "    return SimilarUsers"
   ]
  },
  {
   "cell_type": "code",
   "execution_count": 319,
   "metadata": {
    "collapsed": false
   },
   "outputs": [],
   "source": [
    "def user_twins(userId):\n",
    "    top_twins = SimilarUsers[SimilarUsers['userId']==userId].sort_values(['unskewed_pearson'], ascending=False).head(30)\n",
    "    top_twins = top_twins[top_twins['pearson']>0]\n",
    "    top_twins = top_twins[top_twins['unskewed_pearson']>0].drop(columns=['userId', 'pearson']).as_matrix()\n",
    "    return top_twins\n",
    "\n",
    "def user_collaborative_recommendations(userId):\n",
    "    twin_recommendations = pd.DataFrame()\n",
    "    top_twins = user_twins(userId)\n",
    "    for twin in top_twins:\n",
    "        twin_data = Ratings[Ratings['userId']==twin[0].astype(int)]\n",
    "        twin_data = twin_data[twin_data['rating_unskewed']>0].sort_values(['rating_unskewed'], ascending=False)\n",
    "        twin_data['proximity_weight'] = twin[1]\n",
    "        twin_data['proximity_rating'] = twin_data['rating_unskewed']*twin[1]\n",
    "        twin_recommendations = twin_recommendations.append(twin_data, ignore_index=True)\n",
    "    twin_recommendations = twin_recommendations.sort_values(['proximity_rating'], ascending=False)\n",
    "    twin_recommendations_acc = twin_recommendations.groupby(['movieId'], as_index = False, sort = False)['proximity_rating'].agg('sum').sort_values(['proximity_rating'], ascending=False).iloc[:, 0].values\n",
    "    return twin_recommendations_acc"
   ]
  }
 ],
 "metadata": {
  "anaconda-cloud": {},
  "kernelspec": {
   "display_name": "Python [conda env:my_env]",
   "language": "python",
   "name": "conda-env-my_env-py"
  },
  "language_info": {
   "codemirror_mode": {
    "name": "ipython",
    "version": 2
   },
   "file_extension": ".py",
   "mimetype": "text/x-python",
   "name": "python",
   "nbconvert_exporter": "python",
   "pygments_lexer": "ipython2",
   "version": "2.7.13"
  }
 },
 "nbformat": 4,
 "nbformat_minor": 1
}
