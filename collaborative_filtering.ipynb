{
 "cells": [
  {
   "cell_type": "markdown",
   "metadata": {},
   "source": [
    "# **Collaborative filtering implementation:**"
   ]
  },
  {
   "cell_type": "markdown",
   "metadata": {},
   "source": [
    "**1. Library importing, data initialization and auxilary functions definition:**"
   ]
  },
  {
   "cell_type": "code",
   "execution_count": null,
   "metadata": {
    "collapsed": true
   },
   "outputs": [],
   "source": [
    "import pandas as pd\n",
    "import numpy as np\n",
    "import math\n",
    "\n",
    "ratings_path = \"./ml-latest-small/ratings.csv\"\n",
    "movies_path = \"./ml-latest-small/movies.csv\"\n",
    "tags_path = \"./ml-latest-small/tags.csv\"\n",
    "similar_users_path = \"./similar_users.csv\"\n",
    "user_coefficients_path = \"./user_coefficients.csv\"\n",
    "top_similar_items_path = \"./top_similar_items.csv\"\n",
    "top_movie_coefficients_path = \"./top_item_coefficients.csv\"\n",
    "\n",
    "#Ratings = pd.DataFrame()\n",
    "#Movies = pd.DataFrame()\n",
    "\n",
    "\n",
    "# distinct_users = np.array([])\n",
    "# distinct_movies = np.array([])"
   ]
  },
  {
   "cell_type": "code",
   "execution_count": null,
   "metadata": {
    "collapsed": true
   },
   "outputs": [],
   "source": [
    "def load_dataset(dataset):\n",
    "    dataset_name = dataset[0]\n",
    "    dataset_path = dataset[1]\n",
    "    try:\n",
    "        data = pd.read_csv(dataset_path)\n",
    "        print(\"{} is successfully read from memory.\").format(dataset_name)\n",
    "        return data\n",
    "    except:\n",
    "        print(\"CAUTION: {} cannot be read from memory.\").format(dataset_name)\n",
    "        return None"
   ]
  },
  {
   "cell_type": "code",
   "execution_count": null,
   "metadata": {
    "collapsed": true
   },
   "outputs": [],
   "source": [
    "def load_precalculated(data, name, path, recalculator, arg):\n",
    "    data = load_dataset((name, path))\n",
    "    if data is None:\n",
    "        print(\"{} data is being recalculated... It might take a while...\").format(name)\n",
    "        data = recalculator()[arg]\n",
    "    return data"
   ]
  },
  {
   "cell_type": "code",
   "execution_count": null,
   "metadata": {
    "collapsed": true
   },
   "outputs": [],
   "source": [
    "SimilarUsers = pd.DataFrame()\n",
    "UserCoefficients = pd.DataFrame()\n",
    "TopSimilarItems = pd.DataFrame()\n",
    "TopMovieCoefficients = pd.DataFrame()\n",
    "\n",
    "Ratings = load_dataset((\"Ratings\", ratings_path))\n",
    "Ratings, PivotedUserMatrix, PivotedMoviesMatrix = process_ratings(Ratings)\n",
    "distinct_users = np.unique(Ratings['userId'])\n",
    "distinct_movies = np.unique(Ratings['movieId'])\n",
    "Movies = load_dataset((\"Movies\", movies_path))"
   ]
  },
  {
   "cell_type": "code",
   "execution_count": null,
   "metadata": {
    "collapsed": true
   },
   "outputs": [],
   "source": [
    "def unskewed_pearson_similarity(v1, v2):\n",
    "    dot_product = v1.transpose().dot(v2)\n",
    "    v1_vector_length = math.sqrt(v1.transpose().dot(v1))\n",
    "    v2_vector_length = math.sqrt(v2.transpose().dot(v2))\n",
    "    if v1_vector_length < 0.0000001 or v2_vector_length < 0.0000001 or (v1==v2).all():\n",
    "        return 0\n",
    "    else:\n",
    "        return dot_product / v1_vector_length / v2_vector_length"
   ]
  },
  {
   "cell_type": "code",
   "execution_count": null,
   "metadata": {
    "collapsed": true
   },
   "outputs": [],
   "source": [
    "def process_ratings(Ratings):\n",
    "    MeanUserRating = Ratings.groupby(['userId'], as_index = False, sort = False).mean().rename(columns = {'rating': 'rating_mean'})[['userId','rating_mean']]\n",
    "    Ratings = pd.merge(Ratings, MeanUserRating, on = 'userId', how = 'left', sort = False)\n",
    "    Ratings['rating_adjusted'] = Ratings['rating'] - Ratings['rating_mean']\n",
    "    Ratings['mean_skewness'] = (Ratings['rating_adjusted'])/(5-Ratings['rating_mean'])*(Ratings['rating_adjusted']>0).astype(float) - (Ratings['rating_adjusted'])/(Ratings['rating_mean']-0.5)*(Ratings['rating_adjusted']<0).astype(float)\n",
    "    Ratings['rating_unskewed'] = Ratings['rating_adjusted'] * np.sqrt(1+(Ratings['mean_skewness']**2)*2) \n",
    "    PivotedUserMatrix = Ratings.pivot_table(index='movieId', columns='userId', values='rating_unskewed', fill_value=0)\n",
    "    PivotedMoviesMatrix = Ratings.pivot_table(index='userId', columns='movieId', values='rating_unskewed', fill_value=0)\n",
    "    return Ratings, PivotedUserMatrix, PivotedMoviesMatrix"
   ]
  },
  {
   "cell_type": "markdown",
   "metadata": {},
   "source": [
    "**2. Computation of User-User and Item-Item similarity matrices:** "
   ]
  },
  {
   "cell_type": "code",
   "execution_count": null,
   "metadata": {
    "collapsed": true
   },
   "outputs": [],
   "source": [
    "def user_similarity_matrix():\n",
    "    SimilarUsers = pd.DataFrame(0, index=np.arange(distinct_users.size), columns=np.arange(distinct_users.size), dtype='float')\n",
    "    UserCoefficients = pd.DataFrame(0, index=np.arange(distinct_users.size), columns=np.arange(distinct_users.size), dtype='float')\n",
    "    \n",
    "    for user in distinct_users:\n",
    "        userIndex = np.searchsorted(distinct_users, user)\n",
    "        \n",
    "        for user2 in distinct_users:\n",
    "            user2Index = np.searchsorted(distinct_users, user2)\n",
    "            \n",
    "            proximity = unskewed_pearson_similarity(PivotedUserMatrix.iloc[:,userIndex], PivotedUserMatrix.iloc[:,user2Index])\n",
    "            SimilarUsers[user2Index][userIndex] = proximity\n",
    "            \n",
    "        similarity_values = np.copy(SimilarUsers.values[userIndex])\n",
    "        SimilarUsers.values[userIndex] = np.argsort(SimilarUsers.values[userIndex])[::-1]\n",
    "        similarity_values.sort()\n",
    "        similarity_values = similarity_values[::-1]\n",
    "        UserCoefficients.values[userIndex] = np.where(similarity_values > 0, similarity_values, 0)\n",
    "        SimilarUsers.values[userIndex] = np.where(similarity_values > 0, SimilarUsers.values[userIndex], 0)\n",
    "        print(\"Calculated for {} users out of {}.\").format(userIndex+1, distinct_users.size)\n",
    "    \n",
    "    UserCoefficients.to_csv(user_coefficients_path, index=False)\n",
    "    SimilarUsers.to_csv(similar_users_path, index=False)\n",
    "    return SimilarUsers, UserCoefficients"
   ]
  },
  {
   "cell_type": "code",
   "execution_count": null,
   "metadata": {
    "collapsed": true
   },
   "outputs": [],
   "source": [
    "def item_similarity_matrix():\n",
    "    MoviesMatrix = pd.DataFrame(0, index=np.arange(distinct_movies.size), columns=np.arange(distinct_movies.size), dtype='float')\n",
    "    TopSimilarItems = pd.DataFrame(0, index=np.arange(distinct_movies.size), columns=np.arange(1000), dtype='float')\n",
    "    MovieCoefficients = pd.DataFrame(0, index=np.arange(distinct_movies.size), columns=np.arange(distinct_movies.size), dtype='float')\n",
    "    TopMovieCoefficients = pd.DataFrame(0, index=np.arange(distinct_movies.size), columns=np.arange(1000), dtype='float')\n",
    "\n",
    "    for movie in distinct_movies:\n",
    "        movieIndex = np.searchsorted(distinct_movies, movie)\n",
    "\n",
    "        for movie2 in distinct_movies:\n",
    "            movie2Index = np.searchsorted(distinct_movies, movie2)\n",
    "            proximity = unskewed_pearson_similarity(PivotedMoviesMatrix.iloc[:,movieIndex], PivotedMoviesMatrix.iloc[:,movie2Index])\n",
    "            MoviesMatrix[movie2Index][movieIndex] = proximity\n",
    "\n",
    "        similarity_values = np.copy(MoviesMatrix.values[movieIndex])\n",
    "        MoviesMatrix.values[movieIndex] = np.argsort(MoviesMatrix.values[movieIndex])[::-1]\n",
    "        similarity_values.sort()\n",
    "        similarity_values = similarity_values[::-1]\n",
    "\n",
    "        MovieCoefficients.values[movieIndex] = np.where(similarity_values > 0, similarity_values, 0)\n",
    "        TopMovieCoefficients.values[movieIndex] = MovieCoefficients.values[movieIndex][:1000]\n",
    "        MoviesMatrix.values[movieIndex] = np.where(similarity_values > 0, MoviesMatrix.values[movieIndex], 0)\n",
    "        TopSimilarItems.values[movieIndex] = MoviesMatrix.values[movieIndex][:1000]\n",
    "        print(\"Calculated for {} items out of {}.\").format(movieIndex+1, distinct_movies.size)\n",
    "\n",
    "    TopSimilarItems.to_csv(top_similar_items_path, index=False)\n",
    "    TopMovieCoefficients.to_csv(top_movie_coefficients_path, index=False)\n",
    "    return TopSimilarItems, TopMovieCoefficients"
   ]
  },
  {
   "cell_type": "markdown",
   "metadata": {},
   "source": [
    "**3. Loading the similarity matrices from the memory, or recalculating if missing:**"
   ]
  },
  {
   "cell_type": "code",
   "execution_count": null,
   "metadata": {
    "collapsed": true
   },
   "outputs": [],
   "source": [
    "SimilarUsers = load_precalculated(SimilarUsers, \"SimilarUsers\", similar_users_path, user_similarity_matrix, 0)\n",
    "UserCoefficients = load_precalculated(UserCoefficients, \"UserCoefficients\", user_coefficients_path, user_similarity_matrix, 1)    \n",
    "TopSimilarItems = load_precalculated(TopSimilarItems, \"TopSimilarItems\", top_similar_items_path, item_similarity_matrix, 0)\n",
    "TopMovieCoefficients = load_precalculated(TopMovieCoefficients, \"TopMovieCoefficients\", top_movie_coefficients_path, item_similarity_matrix, 1)    "
   ]
  },
  {
   "cell_type": "markdown",
   "metadata": {},
   "source": [
    "**4. Calculating top user-based and item-based collaborative recommendations for a particular user utilizing similarity matrices from the previous step:**"
   ]
  },
  {
   "cell_type": "code",
   "execution_count": null,
   "metadata": {
    "collapsed": true
   },
   "outputs": [],
   "source": [
    "def accumulate_user_recommendations(userId, recommenders):\n",
    "    recommendations = np.zeros(distinct_movies.size)\n",
    "    userIndex = np.searchsorted(distinct_users, userId)\n",
    "    recommendersProximity = UserCoefficients.values[userIndex]\n",
    "\n",
    "    for recommender, proximity in zip(recommenders, recommendersProximity):\n",
    "        recommenderIndex = np.searchsorted(distinct_users, recommender)\n",
    "        recommenderRatings = PivotedUserMatrix.iloc[:,recommenderIndex]\n",
    "        recommendation_vector = (recommenderRatings*proximity).values\n",
    "        recommendations += recommendation_vector\n",
    "\n",
    "    return recommendations"
   ]
  },
  {
   "cell_type": "code",
   "execution_count": null,
   "metadata": {
    "collapsed": true
   },
   "outputs": [],
   "source": [
    "def accumulate_item_recommendations(userId, user_preferences, user_rates):\n",
    "    recommendations = np.zeros(distinct_movies.size)\n",
    "    \n",
    "    for preference, rate in zip(user_preferences, user_rates):\n",
    "        preferenceIndex = np.searchsorted(distinct_movies, preference)\n",
    "        preferenceTwins = TopSimilarItems.values[preferenceIndex].astype(int)\n",
    "        twinsProximity = TopMovieCoefficients.values[preferenceIndex]\n",
    "        \n",
    "        for twinId, twinProximity in zip(preferenceTwins, twinsProximity):\n",
    "            if twinId > 0:\n",
    "                twinIndex = np.searchsorted(distinct_movies, twinId)\n",
    "                recommendations[twinIndex] += rate*twinProximity\n",
    "\n",
    "    return recommendations"
   ]
  },
  {
   "cell_type": "code",
   "execution_count": null,
   "metadata": {
    "collapsed": true
   },
   "outputs": [],
   "source": [
    "def user_collaborative_recommendations(userId):\n",
    "    userIndex = np.searchsorted(np.unique(Ratings['userId']), userId)\n",
    "    recommenders = np.extract(SimilarUsers.values[userIndex]>0, SimilarUsers.values[userIndex])\n",
    "    acc_recommendations = accumulate_user_recommendations(userId, recommenders)\n",
    "    user_recommendations = distinct_movies[np.argsort(acc_recommendations)][::-1]\n",
    "    acc_recommendations.sort()\n",
    "    sorted_recommendations = acc_recommendations[::-1]\n",
    "    user_recommendations = np.extract(sorted_recommendations>0, user_recommendations)\n",
    "    return user_recommendations"
   ]
  },
  {
   "cell_type": "code",
   "execution_count": null,
   "metadata": {
    "collapsed": true
   },
   "outputs": [],
   "source": [
    "def item_collaborative_recommendations(userId):\n",
    "    userIndex = np.searchsorted(distinct_users, userId)\n",
    "    user_rates = PivotedMoviesMatrix.values[userIndex]\n",
    "    user_rates = np.where(user_rates>0, user_rates, 0)\n",
    "    user_preferences = distinct_movies[np.argsort(user_rates)][::-1]\n",
    "    \n",
    "    user_rates.sort()\n",
    "    user_rates = user_rates[::-1]\n",
    "    user_rates = np.extract(user_rates>0, user_rates)\n",
    "    user_preferences = user_preferences[:user_rates.size]\n",
    "    \n",
    "    acc_recommendations = accumulate_item_recommendations(userId, user_preferences, user_rates)\n",
    "    item_recommendations = distinct_movies[np.argsort(acc_recommendations)][::-1]\n",
    "    acc_recommendations.sort()\n",
    "    acc_recommendations = acc_recommendations[::-1]\n",
    "    item_recommendations = np.extract(acc_recommendations>0, item_recommendations)\n",
    "\n",
    "    return item_recommendations"
   ]
  },
  {
   "cell_type": "markdown",
   "metadata": {},
   "source": [
    "**Examples:**"
   ]
  },
  {
   "cell_type": "code",
   "execution_count": null,
   "metadata": {
    "collapsed": true
   },
   "outputs": [],
   "source": [
    "userId=5"
   ]
  },
  {
   "cell_type": "code",
   "execution_count": null,
   "metadata": {
    "collapsed": true
   },
   "outputs": [],
   "source": [
    "users_recommend = user_collaborative_recommendations(userId)[:20]\n",
    "Movies[Movies['movieId'].isin(users_recommend)]"
   ]
  },
  {
   "cell_type": "code",
   "execution_count": null,
   "metadata": {
    "collapsed": true
   },
   "outputs": [],
   "source": [
    "movies_recommend = item_collaborative_recommendations(userId)[:20]\n",
    "Movies[Movies['movieId'].isin(movies_recommend)]"
   ]
  }
 ],
 "metadata": {
  "kernelspec": {
   "display_name": "Python 2",
   "language": "python",
   "name": "python2"
  },
  "language_info": {
   "codemirror_mode": {
    "name": "ipython",
    "version": 2
   },
   "file_extension": ".py",
   "mimetype": "text/x-python",
   "name": "python",
   "nbconvert_exporter": "python",
   "pygments_lexer": "ipython2",
   "version": "2.7.13"
  }
 },
 "nbformat": 4,
 "nbformat_minor": 2
}
